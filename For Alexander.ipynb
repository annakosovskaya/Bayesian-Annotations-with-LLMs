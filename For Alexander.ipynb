{
 "cells": [
  {
   "cell_type": "code",
   "id": "initial_id",
   "metadata": {
    "collapsed": true,
    "ExecuteTime": {
     "end_time": "2025-05-25T16:47:08.720036Z",
     "start_time": "2025-05-25T16:47:07.471288Z"
    }
   },
   "source": [
    "import argparse\n",
    "import os\n",
    "from collections import defaultdict\n",
    "from pathlib import Path\n",
    "from typing import Dict, List, Optional, Tuple\n",
    "import gc\n",
    "\n",
    "import numpy as np\n",
    "from sympy.logic.boolalg import Boolean\n",
    "from tqdm import tqdm\n",
    "\n",
    "from jax import nn, random, vmap, clear_caches\n",
    "import jax.numpy as jnp\n",
    "\n",
    "import numpyro\n",
    "from numpyro import handlers\n",
    "import numpyro.distributions as dist\n",
    "from numpyro.infer import MCMC, NUTS, Predictive\n",
    "from numpyro.infer.reparam import LocScaleReparam\n",
    "from numpyro.ops.indexing import Vindex\n",
    "\n",
    "import json\n",
    "\n",
    "from sklearn.metrics import log_loss,f1_score\n",
    "from sklearn.preprocessing import OneHotEncoder\n",
    "\n",
    "from utils.data_utils import read_jsonl\n",
    "\n",
    "from scipy.stats import entropy\n",
    "from scipy.spatial.distance import jensenshannon\n"
   ],
   "outputs": [
    {
     "name": "stderr",
     "output_type": "stream",
     "text": [
      "C:\\Users\\Benson\\miniconda3\\envs\\pyro\\lib\\site-packages\\tqdm\\auto.py:21: TqdmWarning: IProgress not found. Please update jupyter and ipywidgets. See https://ipywidgets.readthedocs.io/en/stable/user_install.html\n",
      "  from .autonotebook import tqdm as notebook_tqdm\n"
     ]
    }
   ],
   "execution_count": 1
  },
  {
   "metadata": {
    "ExecuteTime": {
     "end_time": "2025-05-25T16:47:10.161204Z",
     "start_time": "2025-05-25T16:47:09.934260Z"
    }
   },
   "cell_type": "code",
   "source": [
    "res = read_jsonl(\"data/ghc_train.jsonl\")\n",
    "annotators = np.array([np.array(it[\"annotators\"]) for it in res if len(it[\"annotators\"]) == 3])\n",
    "annotations = np.array([np.array(it[\"labels\"]) for it in res if len(it[\"annotators\"]) == 3])\n",
    "logits = np.load(\"llm_data/Qwen2.5-32B/train/logits.npy\")\n",
    "logits = np.array([x for i, x in enumerate(logits[:, :2]) if len(res[i][\"annotators\"]) == 3])"
   ],
   "id": "a6c801640098fe70",
   "outputs": [
    {
     "name": "stdout",
     "output_type": "stream",
     "text": [
      "\n"
     ]
    }
   ],
   "execution_count": 2
  },
  {
   "metadata": {
    "ExecuteTime": {
     "end_time": "2025-05-25T16:47:30.935717Z",
     "start_time": "2025-05-25T16:47:30.919716Z"
    }
   },
   "cell_type": "code",
   "source": [
    "def multinomial(annotations,logits=None,test:bool=False):\n",
    "    \"\"\"\n",
    "    This model corresponds to the plate diagram in Figure 1 of reference [1].\n",
    "    \"\"\"\n",
    "    num_classes = int(np.max(annotations)) + 1\n",
    "    num_items, num_positions = annotations.shape\n",
    "\n",
    "    with numpyro.plate(\"class\", num_classes):\n",
    "        zeta = numpyro.sample(\"zeta\", dist.Dirichlet(jnp.ones(num_classes)))\n",
    "\n",
    "    if logits is None:\n",
    "        pi = numpyro.sample(\"pi\", dist.Dirichlet(jnp.ones(num_classes)))\n",
    "    # pi = numpyro.sample(\"pi\", dist.Dirichlet(jnp.ones(num_classes)),obs=nn.softmax(logits).mean(0))\n",
    "    # pi = nn.softmax(logits).mean(0)\n",
    "    # c = numpyro.sample(\"c\", dist.Categorical(logits = logits[:,np.newaxis,:]), infer={\"enumerate\": \"parallel\"})\n",
    "\n",
    "    with numpyro.plate(\"item\", num_items, dim=-2):\n",
    "        if logits is None:\n",
    "            c = numpyro.sample(\"c\", dist.Categorical(probs=pi), infer={\"enumerate\": \"parallel\"})\n",
    "        else:\n",
    "            c = numpyro.sample(\"c\", dist.Categorical(logits = logits[:,np.newaxis,:]), infer={\"enumerate\": \"parallel\"})\n",
    "        with numpyro.plate(\"position\", num_positions):\n",
    "            if test:\n",
    "                numpyro.sample(\"y\", dist.Categorical(zeta[c]))\n",
    "            else:\n",
    "                numpyro.sample(\"y\", dist.Categorical(zeta[c]), obs=annotations)\n",
    "\n",
    "def item_difficulty():\n",
    "    pass\n"
   ],
   "id": "b2b256f04a869c6f",
   "outputs": [],
   "execution_count": 5
  },
  {
   "metadata": {
    "ExecuteTime": {
     "end_time": "2025-05-25T16:59:54.257209Z",
     "start_time": "2025-05-25T16:59:23.192100Z"
    }
   },
   "cell_type": "code",
   "source": [
    "model = multinomial\n",
    "\n",
    "mcmc = MCMC(\n",
    "    NUTS(model),\n",
    "    num_warmup=500,\n",
    "    num_samples=500,\n",
    "    num_chains=1,\n",
    "    progress_bar=False if \"NUMPYRO_SPHINXBUILD\" in os.environ else True,\n",
    ")\n",
    "\n",
    "train_size=round(annotations.shape[0]*0.9)\n",
    "\n",
    "train_data = (\n",
    "    (annotations[:train_size], logits[:train_size])\n",
    "    if model in [multinomial, item_difficulty]\n",
    "    else (positions_, annotations_[:train_size], masks_[:train_size], global_num_classes, True, logits[:train_size])\n",
    "    if model == dawid_skene\n",
    "    else (annotators[:train_size], annotations[:train_size], logits[:train_size])\n",
    ")\n",
    "\n",
    "test_data = (\n",
    "    (annotations[train_size:], logits[train_size:], [True] * annotations[train_size:].shape[0])\n",
    "    if model in [multinomial, item_difficulty]\n",
    "    else (positions_, annotations_[train_size:], masks_[train_size:], global_num_classes, True, logits[train_size:], [True] * annotations[train_size:].shape[0])\n",
    "    if model == dawid_skene\n",
    "    else (annotators[train_size:], annotations[train_size:], logits[train_size:], [True] * annotations[train_size:].shape[0])\n",
    ")\n",
    "\n",
    "mcmc.run(random.PRNGKey(0), *train_data)\n",
    "mcmc.print_summary()\n",
    "\n",
    "posterior_samples = mcmc.get_samples()\n",
    "predictive = Predictive(model, posterior_samples, infer_discrete=True)\n",
    "discrete_samples = predictive(random.PRNGKey(1), *test_data)\n",
    "\n",
    "annotator_probs = vmap(lambda x: x.mean(0), in_axes=1)(\n",
    "    discrete_samples[\"y\"]\n",
    ")\n",
    "\n",
    "pred_probs = np.vstack((annotator_probs.mean(1),1-annotator_probs.mean(1)))\n",
    "emp_probs = np.vstack((annotations[train_size:].mean(1),1-annotations[train_size:].mean(1)))\n",
    "\n",
    "print(f'Average Jensen-Shannon divergence across items= {np.power(jensenshannon(emp_probs,pred_probs),2).mean()}')\n",
    "print(f'Average KL divergence across items= {entropy(emp_probs,pred_probs).mean()}')\n",
    "print(f'Binary F1 score with majority vote = {f1_score(np.rint(annotations[train_size:].mean(1)),np.rint(np.rint(annotator_probs).mean(1)),pos_label=1)}')\n",
    "\n"
   ],
   "id": "72ad6476af012ed0",
   "outputs": [
    {
     "name": "stderr",
     "output_type": "stream",
     "text": [
      "sample: 100%|██████████| 1000/1000 [00:29<00:00, 33.49it/s, 7 steps of size 8.37e-01. acc. prob=0.93]\n"
     ]
    },
    {
     "name": "stdout",
     "output_type": "stream",
     "text": [
      "\n",
      "                mean       std    median      5.0%     95.0%     n_eff     r_hat\n",
      " zeta[0,0]      0.94      0.00      0.94      0.94      0.94    317.32      1.00\n",
      " zeta[0,1]      0.06      0.00      0.06      0.06      0.06    317.32      1.00\n",
      " zeta[1,0]      0.56      0.00      0.56      0.55      0.57    271.48      1.00\n",
      " zeta[1,1]      0.44      0.00      0.44      0.43      0.45    271.48      1.00\n",
      "\n",
      "Number of divergences: 0\n",
      "Average Jensen-Shannon divergence across items= 0.1621229768657305\n",
      "Average KL divergence across items= 0.5235341788748941\n",
      "Binary F1 score with majority vote = 0.15275590551181104\n"
     ]
    }
   ],
   "execution_count": 14
  },
  {
   "metadata": {
    "ExecuteTime": {
     "end_time": "2025-05-25T17:00:30.962630Z",
     "start_time": "2025-05-25T16:59:56.268502Z"
    }
   },
   "cell_type": "code",
   "source": [
    "model = multinomial\n",
    "\n",
    "mcmc = MCMC(\n",
    "    NUTS(model),\n",
    "    num_warmup=500,\n",
    "    num_samples=500,\n",
    "    num_chains=1,\n",
    "    progress_bar=False if \"NUMPYRO_SPHINXBUILD\" in os.environ else True,\n",
    ")\n",
    "\n",
    "train_size=round(annotations.shape[0]*0.9)\n",
    "\n",
    "train_data = (\n",
    "    (annotations[:train_size], logits[:train_size])\n",
    "    if model in [multinomial, item_difficulty]\n",
    "    else (positions_, annotations_[:train_size], masks_[:train_size], global_num_classes, True, logits[:train_size])\n",
    "    if model == dawid_skene\n",
    "    else (annotators[:train_size], annotations[:train_size], logits[:train_size])\n",
    ")\n",
    "\n",
    "test_data = (\n",
    "    (annotations[train_size:], logits[train_size:], [True] * annotations[train_size:].shape[0])\n",
    "    if model in [multinomial, item_difficulty]\n",
    "    else (positions_, annotations_[train_size:], masks_[train_size:], global_num_classes, True, logits[train_size:], [True] * annotations[train_size:].shape[0])\n",
    "    if model == dawid_skene\n",
    "    else (annotators[train_size:], annotations[train_size:], logits[train_size:], [True] * annotations[train_size:].shape[0])\n",
    ")\n",
    "\n",
    "mcmc.run(random.PRNGKey(0), *train_data)\n",
    "mcmc.print_summary()\n",
    "\n",
    "posterior_samples = mcmc.get_samples()\n",
    "predictive = Predictive(model, posterior_samples, infer_discrete=False)\n",
    "discrete_samples = predictive(random.PRNGKey(1), *test_data)\n",
    "\n",
    "annotator_probs = vmap(lambda x: x.mean(0), in_axes=1)(\n",
    "    discrete_samples[\"y\"]\n",
    ")\n",
    "\n",
    "pred_probs = np.vstack((annotator_probs.mean(1),1-annotator_probs.mean(1)))\n",
    "emp_probs = np.vstack((annotations[train_size:].mean(1),1-annotations[train_size:].mean(1)))\n",
    "\n",
    "print(f'Average Jensen-Shannon divergence across items= {np.power(jensenshannon(emp_probs,pred_probs),2).mean()}')\n",
    "print(f'Average KL divergence across items= {entropy(emp_probs,pred_probs).mean()}')\n",
    "print(f'Binary F1 score with majority vote = {f1_score(np.rint(annotations[train_size:].mean(1)),np.rint(np.rint(annotator_probs).mean(1)),pos_label=1)}')\n",
    "\n"
   ],
   "id": "3ff719bb45791074",
   "outputs": [
    {
     "name": "stderr",
     "output_type": "stream",
     "text": [
      "sample: 100%|██████████| 1000/1000 [00:33<00:00, 29.42it/s, 7 steps of size 8.37e-01. acc. prob=0.93] \n"
     ]
    },
    {
     "name": "stdout",
     "output_type": "stream",
     "text": [
      "\n",
      "                mean       std    median      5.0%     95.0%     n_eff     r_hat\n",
      " zeta[0,0]      0.94      0.00      0.94      0.94      0.94    317.32      1.00\n",
      " zeta[0,1]      0.06      0.00      0.06      0.06      0.06    317.32      1.00\n",
      " zeta[1,0]      0.56      0.00      0.56      0.55      0.57    271.48      1.00\n",
      " zeta[1,1]      0.44      0.00      0.44      0.43      0.45    271.48      1.00\n",
      "\n",
      "Number of divergences: 0\n",
      "Average Jensen-Shannon divergence across items= 0.04204168142459972\n",
      "Average KL divergence across items= 0.15842332199139497\n",
      "Binary F1 score with majority vote = 0.0\n"
     ]
    }
   ],
   "execution_count": 15
  },
  {
   "metadata": {
    "ExecuteTime": {
     "end_time": "2025-05-25T16:49:09.333882Z",
     "start_time": "2025-05-25T16:49:09.006740Z"
    }
   },
   "cell_type": "code",
   "source": [
    "predictive = Predictive(model, posterior_samples, infer_discrete=True)\n",
    "discrete_samples = predictive(random.PRNGKey(1), *test_data)"
   ],
   "id": "f5ec61c2ae190b4",
   "outputs": [],
   "execution_count": 7
  },
  {
   "metadata": {
    "ExecuteTime": {
     "end_time": "2025-05-25T16:49:11.832548Z",
     "start_time": "2025-05-25T16:49:10.707693Z"
    }
   },
   "cell_type": "code",
   "source": [
    "for i in range(0,500):\n",
    "    with numpyro.plate(\"item\", discrete_samples[\"c\"].shape[1], dim=-2):\n",
    "        c = discrete_samples[\"c\"][i]\n",
    "        with numpyro.plate(\"position\", 3):\n",
    "            y = numpyro.sample(\"y\", dist.Categorical(posterior_samples['zeta'][i][c]),rng_key=random.PRNGKey(1))\n",
    "    if i == 0:\n",
    "        ys=y\n",
    "    elif i == 1:\n",
    "        ys = np.vstack((ys[np.newaxis,...],y[np.newaxis,...]))\n",
    "    else:\n",
    "        ys = np.vstack((ys,y[np.newaxis,...]))"
   ],
   "id": "bc3a49c1a99d8726",
   "outputs": [],
   "execution_count": 8
  },
  {
   "metadata": {
    "ExecuteTime": {
     "end_time": "2025-05-25T16:49:12.653378Z",
     "start_time": "2025-05-25T16:49:12.621059Z"
    }
   },
   "cell_type": "code",
   "source": [
    "annotator_probs = vmap(lambda x: x.mean(0), in_axes=1)(\n",
    "    ys\n",
    ")\n",
    "\n",
    "pred_probs = np.vstack((annotator_probs.mean(1),1-annotator_probs.mean(1)))\n",
    "emp_probs = np.vstack((annotations[train_size:].mean(1),1-annotations[train_size:].mean(1)))\n",
    "\n",
    "print(f'Average Jensen-Shannon divergence across items= {np.power(jensenshannon(emp_probs,pred_probs),2).mean()}')\n",
    "print(f'Average KL divergence across items= {entropy(emp_probs,pred_probs).mean()}')\n",
    "print(f'Binary F1 score with majority vote = {f1_score(np.rint(annotations[train_size:].mean(1)),np.rint(np.rint(annotator_probs).mean(1)),pos_label=1)}')"
   ],
   "id": "82230b2846187bb1",
   "outputs": [
    {
     "name": "stdout",
     "output_type": "stream",
     "text": [
      "Average Jensen-Shannon divergence across items= 0.09626321907655509\n",
      "Average KL divergence across items= inf\n",
      "Binary F1 score with majority vote = 0.11487481590574374\n"
     ]
    }
   ],
   "execution_count": 9
  },
  {
   "metadata": {
    "ExecuteTime": {
     "end_time": "2025-05-25T16:49:15.314393Z",
     "start_time": "2025-05-25T16:49:15.087873Z"
    }
   },
   "cell_type": "code",
   "source": [
    "predictive = Predictive(model, posterior_samples, infer_discrete=False)\n",
    "discrete_samples = predictive(random.PRNGKey(1), *test_data)"
   ],
   "id": "52f5fcda16ff3e77",
   "outputs": [],
   "execution_count": 10
  },
  {
   "metadata": {
    "ExecuteTime": {
     "end_time": "2025-05-25T16:49:17.759293Z",
     "start_time": "2025-05-25T16:49:16.685150Z"
    }
   },
   "cell_type": "code",
   "source": [
    "for i in range(0,500):\n",
    "    with numpyro.plate(\"item\", discrete_samples[\"c\"].shape[1], dim=-2):\n",
    "        c = discrete_samples[\"c\"][i]\n",
    "        with numpyro.plate(\"position\", 3):\n",
    "            y = numpyro.sample(\"y\", dist.Categorical(posterior_samples['zeta'][i][c]),rng_key=random.PRNGKey(1))\n",
    "    if i == 0:\n",
    "        ys=y\n",
    "    elif i == 1:\n",
    "        ys = np.vstack((ys[np.newaxis,...],y[np.newaxis,...]))\n",
    "    else:\n",
    "        ys = np.vstack((ys,y[np.newaxis,...]))"
   ],
   "id": "cce6c0073caa1bfc",
   "outputs": [],
   "execution_count": 11
  },
  {
   "metadata": {
    "ExecuteTime": {
     "end_time": "2025-05-25T16:49:19.384712Z",
     "start_time": "2025-05-25T16:49:19.368660Z"
    }
   },
   "cell_type": "code",
   "source": [
    "annotator_probs = vmap(lambda x: x.mean(0), in_axes=1)(\n",
    "    ys\n",
    ")\n",
    "\n",
    "pred_probs = np.vstack((annotator_probs.mean(1),1-annotator_probs.mean(1)))\n",
    "emp_probs = np.vstack((annotations[train_size:].mean(1),1-annotations[train_size:].mean(1)))\n",
    "\n",
    "print(f'Average Jensen-Shannon divergence across items= {np.power(jensenshannon(emp_probs,pred_probs),2).mean()}')\n",
    "print(f'Average KL divergence across items= {entropy(emp_probs,pred_probs).mean()}')\n",
    "print(f'Binary F1 score with majority vote = {f1_score(np.rint(annotations[train_size:].mean(1)),np.rint(np.rint(annotator_probs).mean(1)),pos_label=1)}')"
   ],
   "id": "71ab0012a19ea33f",
   "outputs": [
    {
     "name": "stdout",
     "output_type": "stream",
     "text": [
      "Average Jensen-Shannon divergence across items= 0.05609169892066523\n",
      "Average KL divergence across items= inf\n",
      "Binary F1 score with majority vote = 0.3125\n"
     ]
    }
   ],
   "execution_count": 12
  },
  {
   "metadata": {},
   "cell_type": "code",
   "outputs": [],
   "execution_count": null,
   "source": "",
   "id": "a69bf3f383ad3b6b"
  }
 ],
 "metadata": {
  "kernelspec": {
   "display_name": "Python 3",
   "language": "python",
   "name": "python3"
  },
  "language_info": {
   "codemirror_mode": {
    "name": "ipython",
    "version": 2
   },
   "file_extension": ".py",
   "mimetype": "text/x-python",
   "name": "python",
   "nbconvert_exporter": "python",
   "pygments_lexer": "ipython2",
   "version": "2.7.6"
  }
 },
 "nbformat": 4,
 "nbformat_minor": 5
}
