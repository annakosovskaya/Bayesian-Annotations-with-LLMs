{
 "cells": [
  {
   "cell_type": "code",
   "id": "initial_id",
   "metadata": {
    "collapsed": true,
    "ExecuteTime": {
     "end_time": "2025-05-27T00:19:12.860117Z",
     "start_time": "2025-05-27T00:19:12.823518Z"
    }
   },
   "source": [
    "import argparse\n",
    "import os\n",
    "from collections import defaultdict\n",
    "from pathlib import Path\n",
    "from typing import Dict, List, Optional, Tuple\n",
    "import gc\n",
    "\n",
    "import numpy as np\n",
    "from sympy.logic.boolalg import Boolean\n",
    "from tqdm import tqdm\n",
    "\n",
    "from jax import nn, random, vmap, clear_caches\n",
    "import jax.numpy as jnp\n",
    "\n",
    "import numpyro\n",
    "from numpyro import handlers\n",
    "import numpyro.distributions as dist\n",
    "from numpyro.infer import MCMC, NUTS, Predictive\n",
    "from numpyro.infer.reparam import LocScaleReparam\n",
    "from numpyro.ops.indexing import Vindex\n",
    "\n",
    "import json\n",
    "\n",
    "from sklearn.metrics import log_loss,f1_score\n",
    "from sklearn.preprocessing import OneHotEncoder\n",
    "\n",
    "from utils.data_utils import read_jsonl\n",
    "\n",
    "from scipy.stats import entropy\n",
    "from scipy.spatial.distance import jensenshannon\n"
   ],
   "outputs": [],
   "execution_count": 198
  },
  {
   "metadata": {
    "ExecuteTime": {
     "end_time": "2025-05-27T00:19:14.274730Z",
     "start_time": "2025-05-27T00:19:13.928044Z"
    }
   },
   "cell_type": "code",
   "source": [
    "res = read_jsonl(\"data/ghc_train.jsonl\")\n",
    "annotators = np.array([np.array(it[\"annotators\"]) for it in res if len(it[\"annotators\"]) == 3])\n",
    "annotations = np.array([np.array(it[\"labels\"]) for it in res if len(it[\"annotators\"]) == 3])\n",
    "logits = np.load(\"llm_data/Qwen2.5-32B/train/logits.npy\")\n",
    "logits = np.array([x for i, x in enumerate(logits[:, :2]) if len(res[i][\"annotators\"]) == 3])"
   ],
   "id": "a6c801640098fe70",
   "outputs": [
    {
     "name": "stdout",
     "output_type": "stream",
     "text": [
      "\n"
     ]
    }
   ],
   "execution_count": 199
  },
  {
   "metadata": {
    "ExecuteTime": {
     "end_time": "2025-05-27T00:19:15.162835Z",
     "start_time": "2025-05-27T00:19:15.138170Z"
    }
   },
   "cell_type": "code",
   "source": [
    "def multinomial(annotations,logits=None,test:bool=False):\n",
    "    \"\"\"\n",
    "    This model corresponds to the plate diagram in Figure 1 of reference [1].\n",
    "    \"\"\"\n",
    "    num_classes = int(np.max(annotations)) + 1\n",
    "    num_items, num_positions = annotations.shape\n",
    "\n",
    "    with numpyro.plate(\"class\", num_classes):\n",
    "        zeta = numpyro.sample(\"zeta\", dist.Dirichlet(jnp.ones(num_classes)))\n",
    "\n",
    "    if logits is None:\n",
    "        pi = numpyro.sample(\"pi\", dist.Dirichlet(jnp.ones(num_classes)))\n",
    "    # pi = numpyro.sample(\"pi\", dist.Dirichlet(jnp.ones(num_classes)),obs=nn.softmax(logits).mean(0))\n",
    "    # pi = nn.softmax(logits).mean(0)\n",
    "    # c = numpyro.sample(\"c\", dist.Categorical(logits = logits[:,np.newaxis,:]), infer={\"enumerate\": \"parallel\"})\n",
    "\n",
    "    with numpyro.plate(\"item\", num_items, dim=-2):\n",
    "        if logits is None:\n",
    "            c = numpyro.sample(\"c\", dist.Categorical(probs=pi), infer={\"enumerate\": \"parallel\"})\n",
    "        else:\n",
    "            c = numpyro.sample(\"c\", dist.Categorical(logits = logits[:,np.newaxis,:]), infer={\"enumerate\": \"parallel\"})\n",
    "        with numpyro.plate(\"position\", num_positions):\n",
    "            if test:\n",
    "                numpyro.sample(\"y\", dist.Categorical(zeta[c]))\n",
    "            else:\n",
    "                numpyro.sample(\"y\", dist.Categorical(zeta[c]), obs=annotations)\n",
    "\n",
    "def item_difficulty():\n",
    "    pass\n"
   ],
   "id": "b2b256f04a869c6f",
   "outputs": [],
   "execution_count": 200
  },
  {
   "metadata": {},
   "cell_type": "markdown",
   "source": "Function to print prediction results",
   "id": "739e6b8e56920967"
  },
  {
   "metadata": {
    "ExecuteTime": {
     "end_time": "2025-05-27T00:19:18.233826Z",
     "start_time": "2025-05-27T00:19:18.203157Z"
    }
   },
   "cell_type": "code",
   "source": [
    "def pred_results(y):\n",
    "    annotator_probs = vmap(lambda x: x.mean(0), in_axes=1)(\n",
    "        y\n",
    "    )\n",
    "\n",
    "    pred_probs = np.vstack((annotator_probs.mean(1),1-annotator_probs.mean(1)))\n",
    "    emp_probs = np.vstack((annotations[train_size:].mean(1),1-annotations[train_size:].mean(1)))\n",
    "\n",
    "    print(f'Average Jensen-Shannon divergence across items= {np.power(jensenshannon(emp_probs,pred_probs),2).mean()}')\n",
    "    print(f'Average KL divergence across items= {entropy(emp_probs,pred_probs).mean()}')\n",
    "    print(f'Binary F1 score with majority vote = {f1_score(np.rint(annotations[train_size:].mean(1)),np.rint(np.rint(annotator_probs).mean(1)),pos_label=1)}')"
   ],
   "id": "ae9cc1c258637a56",
   "outputs": [],
   "execution_count": 201
  },
  {
   "metadata": {},
   "cell_type": "markdown",
   "source": "Define multinomial_test for purposes of forward sampling with posterior latent samples as observations",
   "id": "8f60265f72e3d4b6"
  },
  {
   "metadata": {
    "ExecuteTime": {
     "end_time": "2025-05-27T00:19:34.335689Z",
     "start_time": "2025-05-27T00:19:34.305072Z"
    }
   },
   "cell_type": "code",
   "source": [
    "def multinomial_test(annotations,logits=None,test:bool=False, zeta_samples = None, c_samples = None):\n",
    "    \"\"\"\n",
    "    This model corresponds to the plate diagram in Figure 1 of reference [1].\n",
    "    \"\"\"\n",
    "    num_classes = int(np.max(annotations)) + 1\n",
    "    num_items, num_positions = annotations.shape\n",
    "\n",
    "    with numpyro.plate(\"class\", num_classes):\n",
    "        zeta = numpyro.sample(\"zeta\", dist.Dirichlet(jnp.ones(num_classes)),obs=zeta_samples)\n",
    "\n",
    "    if logits is None:\n",
    "        pi = numpyro.sample(\"pi\", dist.Dirichlet(jnp.ones(num_classes)))\n",
    "    # pi = numpyro.sample(\"pi\", dist.Dirichlet(jnp.ones(num_classes)),obs=nn.softmax(logits).mean(0))\n",
    "    # pi = nn.softmax(logits).mean(0)\n",
    "    # c = numpyro.sample(\"c\", dist.Categorical(logits = logits[:,np.newaxis,:]), infer={\"enumerate\": \"parallel\"})\n",
    "\n",
    "    with numpyro.plate(\"item\", num_items, dim=-2):\n",
    "        if logits is None:\n",
    "            c = numpyro.sample(\"c\", dist.Categorical(probs=pi), infer={\"enumerate\": \"parallel\"})\n",
    "        else:\n",
    "            c = numpyro.sample(\"c\", dist.Categorical(logits = logits[:,np.newaxis,:]), infer={\"enumerate\": \"parallel\"}, obs=c_samples)\n",
    "            # print(c.shape)\n",
    "        with numpyro.plate(\"position\", num_positions):\n",
    "            # print(zeta[c].shape)\n",
    "            z=posterior_samples['zeta'][:,np.newaxis,...]\n",
    "            c=discrete_samples['c'][...,np.newaxis]\n",
    "            # print(c.shape)\n",
    "            # print(z.shape)\n",
    "            # print(np.take_along_axis(z,c,axis=2).shape)\n",
    "            if test:\n",
    "                numpyro.sample(\"y\", dist.Categorical(np.take_along_axis(z,c,axis=2)))\n",
    "            else:\n",
    "                numpyro.sample(\"y\", dist.Categorical(zeta[c]), obs=annotations)"
   ],
   "id": "7219d192a661c7f8",
   "outputs": [],
   "execution_count": 202
  },
  {
   "metadata": {},
   "cell_type": "markdown",
   "source": "Infer discrete is True",
   "id": "cad2b795244142f8"
  },
  {
   "metadata": {
    "ExecuteTime": {
     "end_time": "2025-05-25T16:59:54.257209Z",
     "start_time": "2025-05-25T16:59:23.192100Z"
    }
   },
   "cell_type": "code",
   "source": [
    "model = multinomial\n",
    "\n",
    "mcmc = MCMC(\n",
    "    NUTS(model),\n",
    "    num_warmup=500,\n",
    "    num_samples=500,\n",
    "    num_chains=1,\n",
    "    progress_bar=False if \"NUMPYRO_SPHINXBUILD\" in os.environ else True,\n",
    ")\n",
    "\n",
    "train_size=round(annotations.shape[0]*0.9)\n",
    "\n",
    "train_data = (\n",
    "    (annotations[:train_size], logits[:train_size])\n",
    "    if model in [multinomial, item_difficulty]\n",
    "    else (positions_, annotations_[:train_size], masks_[:train_size], global_num_classes, True, logits[:train_size])\n",
    "    if model == dawid_skene\n",
    "    else (annotators[:train_size], annotations[:train_size], logits[:train_size])\n",
    ")\n",
    "\n",
    "test_data = (\n",
    "    (annotations[train_size:], logits[train_size:], [True] * annotations[train_size:].shape[0])\n",
    "    if model in [multinomial, item_difficulty]\n",
    "    else (positions_, annotations_[train_size:], masks_[train_size:], global_num_classes, True, logits[train_size:], [True] * annotations[train_size:].shape[0])\n",
    "    if model == dawid_skene\n",
    "    else (annotators[train_size:], annotations[train_size:], logits[train_size:], [True] * annotations[train_size:].shape[0])\n",
    ")\n",
    "\n",
    "mcmc.run(random.PRNGKey(0), *train_data)\n",
    "mcmc.print_summary()\n",
    "\n",
    "posterior_samples = mcmc.get_samples()\n",
    "predictive = Predictive(model, posterior_samples, infer_discrete=True)\n",
    "discrete_samples = predictive(random.PRNGKey(1), *test_data)\n",
    "\n",
    "annotator_probs = vmap(lambda x: x.mean(0), in_axes=1)(\n",
    "    discrete_samples[\"y\"]\n",
    ")\n",
    "\n",
    "pred_probs = np.vstack((annotator_probs.mean(1),1-annotator_probs.mean(1)))\n",
    "emp_probs = np.vstack((annotations[train_size:].mean(1),1-annotations[train_size:].mean(1)))\n",
    "\n",
    "print(f'Average Jensen-Shannon divergence across items= {np.power(jensenshannon(emp_probs,pred_probs),2).mean()}')\n",
    "print(f'Average KL divergence across items= {entropy(emp_probs,pred_probs).mean()}')\n",
    "print(f'Binary F1 score with majority vote = {f1_score(np.rint(annotations[train_size:].mean(1)),np.rint(np.rint(annotator_probs).mean(1)),pos_label=1)}')\n",
    "\n"
   ],
   "id": "72ad6476af012ed0",
   "outputs": [
    {
     "name": "stderr",
     "output_type": "stream",
     "text": [
      "sample: 100%|██████████| 1000/1000 [00:29<00:00, 33.49it/s, 7 steps of size 8.37e-01. acc. prob=0.93]\n"
     ]
    },
    {
     "name": "stdout",
     "output_type": "stream",
     "text": [
      "\n",
      "                mean       std    median      5.0%     95.0%     n_eff     r_hat\n",
      " zeta[0,0]      0.94      0.00      0.94      0.94      0.94    317.32      1.00\n",
      " zeta[0,1]      0.06      0.00      0.06      0.06      0.06    317.32      1.00\n",
      " zeta[1,0]      0.56      0.00      0.56      0.55      0.57    271.48      1.00\n",
      " zeta[1,1]      0.44      0.00      0.44      0.43      0.45    271.48      1.00\n",
      "\n",
      "Number of divergences: 0\n",
      "Average Jensen-Shannon divergence across items= 0.1621229768657305\n",
      "Average KL divergence across items= 0.5235341788748941\n",
      "Binary F1 score with majority vote = 0.15275590551181104\n"
     ]
    }
   ],
   "execution_count": 14
  },
  {
   "metadata": {},
   "cell_type": "markdown",
   "source": "Infer discrete is False",
   "id": "31974370fc0b83f3"
  },
  {
   "metadata": {
    "ExecuteTime": {
     "end_time": "2025-05-26T16:32:57.557492Z",
     "start_time": "2025-05-26T16:32:26.489793Z"
    }
   },
   "cell_type": "code",
   "source": [
    "model = multinomial\n",
    "\n",
    "mcmc = MCMC(\n",
    "    NUTS(model),\n",
    "    num_warmup=500,\n",
    "    num_samples=500,\n",
    "    num_chains=1,\n",
    "    progress_bar=False if \"NUMPYRO_SPHINXBUILD\" in os.environ else True,\n",
    ")\n",
    "\n",
    "train_size=round(annotations.shape[0]*0.9)\n",
    "\n",
    "train_data = (\n",
    "    (annotations[:train_size], logits[:train_size])\n",
    "    if model in [multinomial, item_difficulty]\n",
    "    else (positions_, annotations_[:train_size], masks_[:train_size], global_num_classes, True, logits[:train_size])\n",
    "    if model == dawid_skene\n",
    "    else (annotators[:train_size], annotations[:train_size], logits[:train_size])\n",
    ")\n",
    "\n",
    "test_data = (\n",
    "    (annotations[train_size:], logits[train_size:], [True] * annotations[train_size:].shape[0])\n",
    "    if model in [multinomial, item_difficulty]\n",
    "    else (positions_, annotations_[train_size:], masks_[train_size:], global_num_classes, True, logits[train_size:], [True] * annotations[train_size:].shape[0])\n",
    "    if model == dawid_skene\n",
    "    else (annotators[train_size:], annotations[train_size:], logits[train_size:], [True] * annotations[train_size:].shape[0])\n",
    ")\n",
    "\n",
    "mcmc.run(random.PRNGKey(0), *train_data)\n",
    "mcmc.print_summary()\n",
    "\n",
    "posterior_samples = mcmc.get_samples()\n",
    "predictive = Predictive(model, posterior_samples, infer_discrete=False)\n",
    "discrete_samples = predictive(random.PRNGKey(1), *test_data)\n",
    "\n",
    "annotator_probs = vmap(lambda x: x.mean(0), in_axes=1)(\n",
    "    discrete_samples[\"y\"]\n",
    ")\n",
    "\n",
    "pred_probs = np.vstack((annotator_probs.mean(1),1-annotator_probs.mean(1)))\n",
    "emp_probs = np.vstack((annotations[train_size:].mean(1),1-annotations[train_size:].mean(1)))\n",
    "\n",
    "print(f'Average Jensen-Shannon divergence across items= {np.power(jensenshannon(emp_probs,pred_probs),2).mean()}')\n",
    "print(f'Average KL divergence across items= {entropy(emp_probs,pred_probs).mean()}')\n",
    "print(f'Binary F1 score with majority vote = {f1_score(np.rint(annotations[train_size:].mean(1)),np.rint(np.rint(annotator_probs).mean(1)),pos_label=1)}')\n",
    "\n"
   ],
   "id": "3ff719bb45791074",
   "outputs": [
    {
     "name": "stderr",
     "output_type": "stream",
     "text": [
      "sample: 100%|██████████| 1000/1000 [00:30<00:00, 32.85it/s, 7 steps of size 8.37e-01. acc. prob=0.93]\n"
     ]
    },
    {
     "name": "stdout",
     "output_type": "stream",
     "text": [
      "\n",
      "                mean       std    median      5.0%     95.0%     n_eff     r_hat\n",
      " zeta[0,0]      0.94      0.00      0.94      0.94      0.94    317.32      1.00\n",
      " zeta[0,1]      0.06      0.00      0.06      0.06      0.06    317.32      1.00\n",
      " zeta[1,0]      0.56      0.00      0.56      0.55      0.57    271.48      1.00\n",
      " zeta[1,1]      0.44      0.00      0.44      0.43      0.45    271.48      1.00\n",
      "\n",
      "Number of divergences: 0\n",
      "Average Jensen-Shannon divergence across items= 0.04204168142459972\n",
      "Average KL divergence across items= 0.15842332199139497\n",
      "Binary F1 score with majority vote = 0.0\n"
     ]
    }
   ],
   "execution_count": 19
  },
  {
   "metadata": {},
   "cell_type": "markdown",
   "source": "Try manual implementation of prediction looping over 500 samples with infer discrete True",
   "id": "a7791230ac85d21a"
  },
  {
   "metadata": {
    "ExecuteTime": {
     "end_time": "2025-05-27T00:23:52.224768Z",
     "start_time": "2025-05-27T00:23:51.278230Z"
    }
   },
   "cell_type": "code",
   "source": [
    "predictive = Predictive(model, posterior_samples, infer_discrete=True)\n",
    "discrete_samples = predictive(random.PRNGKey(1), *test_data)"
   ],
   "id": "f5ec61c2ae190b4",
   "outputs": [],
   "execution_count": 213
  },
  {
   "metadata": {
    "ExecuteTime": {
     "end_time": "2025-05-27T00:23:54.393812Z",
     "start_time": "2025-05-27T00:23:52.633196Z"
    }
   },
   "cell_type": "code",
   "source": [
    "for i in range(0,500):\n",
    "    with numpyro.plate(\"item\", discrete_samples[\"c\"].shape[1], dim=-2):\n",
    "        c = discrete_samples[\"c\"][i]\n",
    "        with numpyro.plate(\"position\", 3):\n",
    "            y = numpyro.sample(\"y\", dist.Categorical(posterior_samples['zeta'][i][c]),rng_key=random.PRNGKey(1))\n",
    "    if i == 0:\n",
    "        ys=y\n",
    "    elif i == 1:\n",
    "        ys = np.vstack((ys[np.newaxis,...],y[np.newaxis,...]))\n",
    "    else:\n",
    "        ys = np.vstack((ys,y[np.newaxis,...]))"
   ],
   "id": "bc3a49c1a99d8726",
   "outputs": [],
   "execution_count": 214
  },
  {
   "metadata": {
    "ExecuteTime": {
     "end_time": "2025-05-27T00:25:13.842799Z",
     "start_time": "2025-05-27T00:25:13.815357Z"
    }
   },
   "cell_type": "code",
   "source": "pred_results(ys)",
   "id": "82230b2846187bb1",
   "outputs": [
    {
     "name": "stdout",
     "output_type": "stream",
     "text": [
      "Average Jensen-Shannon divergence across items= 0.09626321907655509\n",
      "Average KL divergence across items= inf\n",
      "Binary F1 score with majority vote = 0.11487481590574374\n"
     ]
    }
   ],
   "execution_count": 217
  },
  {
   "metadata": {},
   "cell_type": "markdown",
   "source": "Try manual implementation of prediction looping over 500 samples with infer discrete False",
   "id": "397cbfcbd6b85427"
  },
  {
   "metadata": {
    "ExecuteTime": {
     "end_time": "2025-05-27T00:25:58.634969Z",
     "start_time": "2025-05-27T00:25:58.267348Z"
    }
   },
   "cell_type": "code",
   "source": [
    "predictive = Predictive(model, posterior_samples, infer_discrete=False)\n",
    "discrete_samples = predictive(random.PRNGKey(1), *test_data)"
   ],
   "id": "52f5fcda16ff3e77",
   "outputs": [],
   "execution_count": 218
  },
  {
   "metadata": {
    "ExecuteTime": {
     "end_time": "2025-05-27T00:26:17.986563Z",
     "start_time": "2025-05-27T00:26:15.249110Z"
    }
   },
   "cell_type": "code",
   "source": [
    "for i in range(0,500):\n",
    "    with numpyro.plate(\"item\", discrete_samples[\"c\"].shape[1], dim=-2):\n",
    "        c = discrete_samples[\"c\"][i]\n",
    "        with numpyro.plate(\"position\", 3):\n",
    "            y = numpyro.sample(\"y\", dist.Categorical(posterior_samples['zeta'][i][c]),rng_key=random.PRNGKey(1))\n",
    "    if i == 0:\n",
    "        ys=y\n",
    "    elif i == 1:\n",
    "        ys = np.vstack((ys[np.newaxis,...],y[np.newaxis,...]))\n",
    "    else:\n",
    "        ys = np.vstack((ys,y[np.newaxis,...]))"
   ],
   "id": "cce6c0073caa1bfc",
   "outputs": [],
   "execution_count": 220
  },
  {
   "metadata": {
    "ExecuteTime": {
     "end_time": "2025-05-27T00:26:18.252772Z",
     "start_time": "2025-05-27T00:26:18.235136Z"
    }
   },
   "cell_type": "code",
   "source": "pred_results(ys)",
   "id": "71ab0012a19ea33f",
   "outputs": [
    {
     "name": "stdout",
     "output_type": "stream",
     "text": [
      "Average Jensen-Shannon divergence across items= 0.05609169892066523\n",
      "Average KL divergence across items= inf\n",
      "Binary F1 score with majority vote = 0.3125\n"
     ]
    }
   ],
   "execution_count": 221
  },
  {
   "metadata": {},
   "cell_type": "markdown",
   "source": [
    "Now instead of looping over 500 samples, try forward sampling from multinomial_test with posterior samples passed as observations\n",
    "First get class samples from posterior from multionomial with infer_discrete = False"
   ],
   "id": "42a0c39975d64d2f"
  },
  {
   "metadata": {
    "ExecuteTime": {
     "end_time": "2025-05-26T18:07:29.740488Z",
     "start_time": "2025-05-26T18:07:29.464207Z"
    }
   },
   "cell_type": "code",
   "source": [
    "predictive = Predictive(model, posterior_samples, infer_discrete=False)\n",
    "discrete_samples = predictive(random.PRNGKey(1), *test_data)"
   ],
   "id": "c6300ab71bc22876",
   "outputs": [],
   "execution_count": 175
  },
  {
   "metadata": {
    "ExecuteTime": {
     "end_time": "2025-05-26T18:07:30.323435Z",
     "start_time": "2025-05-26T18:07:30.310073Z"
    }
   },
   "cell_type": "code",
   "source": "data = (annotations[train_size:], logits[train_size:], [True] * annotations[train_size:].shape[0], posterior_samples['zeta'],discrete_samples['c'])",
   "id": "9bcee2c0c637d243",
   "outputs": [],
   "execution_count": 176
  },
  {
   "metadata": {},
   "cell_type": "markdown",
   "source": "Now run predictive on multionomial_test but the Predictive class is now sampling from what it thinks is the prior model but it's actually the posterior because the posterior samples are passed in the data\n",
   "id": "858ac81187a77b1e"
  },
  {
   "metadata": {
    "ExecuteTime": {
     "end_time": "2025-05-26T18:07:32.518925Z",
     "start_time": "2025-05-26T18:07:32.506413Z"
    }
   },
   "cell_type": "code",
   "source": [
    "predictive1 = Predictive(multinomial_test, num_samples=1, infer_discrete=False)\n",
    "\n",
    "discrete_samples1 = predictive1(random.PRNGKey(1), *data)"
   ],
   "id": "a69bf3f383ad3b6b",
   "outputs": [],
   "execution_count": 177
  },
  {
   "metadata": {},
   "cell_type": "markdown",
   "source": "Results are consistent with just predicting using plain multionomial with infer_discrete=False. This is strange because it is different from the manual loop implementation earlier but seems to be doing the same thing as the loop.",
   "id": "6f38b4ee1e8852cd"
  },
  {
   "metadata": {
    "ExecuteTime": {
     "end_time": "2025-05-26T18:08:10.381650Z",
     "start_time": "2025-05-26T18:08:10.356194Z"
    }
   },
   "cell_type": "code",
   "source": "pred_results(discrete_samples1['y'].squeeze())",
   "id": "68c81a68b6f6729e",
   "outputs": [
    {
     "name": "stdout",
     "output_type": "stream",
     "text": [
      "Average Jensen-Shannon divergence across items= 0.04199882242942597\n",
      "Average KL divergence across items= 0.15812588526376475\n",
      "Binary F1 score with majority vote = 0.0\n"
     ]
    }
   ],
   "execution_count": 179
  },
  {
   "metadata": {},
   "cell_type": "markdown",
   "source": "Try manually running the multinomial_test model without wrapping it in the Predictive class",
   "id": "eadf3360cef08f90"
  },
  {
   "metadata": {
    "ExecuteTime": {
     "end_time": "2025-05-27T00:24:12.062163Z",
     "start_time": "2025-05-27T00:24:12.036906Z"
    }
   },
   "cell_type": "code",
   "source": [
    "annotations1,logits1,test, zeta_samples , c_samples = data\n",
    "num_classes = int(np.max(annotations1)) + 1\n",
    "num_items, num_positions = annotations1.shape\n",
    "\n",
    "with numpyro.plate(\"class\", num_classes):\n",
    "    zeta = numpyro.sample(\"zeta\", dist.Dirichlet(jnp.ones(num_classes)),obs=zeta_samples)\n",
    "\n",
    "if logits is None:\n",
    "    pi = numpyro.sample(\"pi\", dist.Dirichlet(jnp.ones(num_classes)))\n",
    "# pi = numpyro.sample(\"pi\", dist.Dirichlet(jnp.ones(num_classes)),obs=nn.softmax(logits).mean(0))\n",
    "# pi = nn.softmax(logits).mean(0)\n",
    "# c = numpyro.sample(\"c\", dist.Categorical(logits = logits[:,np.newaxis,:]), infer={\"enumerate\": \"parallel\"})\n",
    "\n",
    "with numpyro.plate(\"item\", num_items, dim=-2):\n",
    "    if logits is None:\n",
    "        c = numpyro.sample(\"c\", dist.Categorical(probs=pi), infer={\"enumerate\": \"parallel\"})\n",
    "    else:\n",
    "        c = numpyro.sample(\"c\", dist.Categorical(logits = logits1[:,np.newaxis,:]), infer={\"enumerate\": \"parallel\"}, obs=c_samples)\n",
    "        # print(c.shape)\n",
    "    with numpyro.plate(\"position\", num_positions):\n",
    "        # print(zeta[c].shape)\n",
    "        # z=posterior_samples['zeta'][:,np.newaxis,...]\n",
    "        # c=discrete_samples['c'][...,np.newaxis]\n",
    "        z = zeta_samples[:,np.newaxis,...]\n",
    "        c = c_samples[...,np.newaxis]\n",
    "        # print(c.shape)\n",
    "        # print(z.shape)\n",
    "        # print(np.take_along_axis(z,c,axis=2).shape)\n",
    "        if test:\n",
    "            y=numpyro.sample(\"y\", dist.Categorical(np.take_along_axis(z,c,axis=2)),rng_key=random.PRNGKey(1))\n",
    "        else:\n",
    "            numpyro.sample(\"y\", dist.Categorical(zeta[c]), obs=annotations)"
   ],
   "id": "533b63079a2cf651",
   "outputs": [],
   "execution_count": 215
  },
  {
   "metadata": {},
   "cell_type": "markdown",
   "source": "Still consistent results with using Predictive class. So something in the loop implementation is wrong",
   "id": "675466a8bff691f2"
  },
  {
   "metadata": {
    "ExecuteTime": {
     "end_time": "2025-05-27T00:24:17.485149Z",
     "start_time": "2025-05-27T00:24:17.464412Z"
    }
   },
   "cell_type": "code",
   "source": "pred_results(y)",
   "id": "57178b29f8396745",
   "outputs": [
    {
     "name": "stdout",
     "output_type": "stream",
     "text": [
      "Average Jensen-Shannon divergence across items= 0.04210504575377209\n",
      "Average KL divergence across items= 0.1589373858139542\n",
      "Binary F1 score with majority vote = 0.0\n"
     ]
    }
   ],
   "execution_count": 216
  },
  {
   "metadata": {},
   "cell_type": "markdown",
   "source": "Try directly sampling y from zc = np.take_along_axis(z,c,axis=2) and make sure this is the same as the parameters for y in the loop method. Define zs by stacking the 500 samples in the loop\n",
   "id": "7d46125217d3be07"
  },
  {
   "metadata": {
    "ExecuteTime": {
     "end_time": "2025-05-26T18:14:56.588361Z",
     "start_time": "2025-05-26T18:14:55.783788Z"
    }
   },
   "cell_type": "code",
   "source": [
    "for i in range(0,500):\n",
    "    if i == 0:\n",
    "        zs=posterior_samples['zeta'][i][discrete_samples[\"c\"][i]]\n",
    "    elif i == 1:\n",
    "        zs = np.vstack((zs[np.newaxis,...],posterior_samples['zeta'][i][discrete_samples[\"c\"][i]][np.newaxis,...]))\n",
    "    else:\n",
    "        zs = np.vstack((zs,posterior_samples['zeta'][i][discrete_samples[\"c\"][i]][np.newaxis,...]))"
   ],
   "id": "cbb13d0af7a136aa",
   "outputs": [],
   "execution_count": 182
  },
  {
   "metadata": {},
   "cell_type": "code",
   "outputs": [],
   "execution_count": null,
   "source": "zc = np.take_along_axis(z,c,axis=2)",
   "id": "b8499545ae9a4a75"
  },
  {
   "metadata": {},
   "cell_type": "markdown",
   "source": "Both zc and zs are identical",
   "id": "1840fc7d63466bb0"
  },
  {
   "metadata": {
    "ExecuteTime": {
     "end_time": "2025-05-26T18:14:58.687425Z",
     "start_time": "2025-05-26T18:14:58.671620Z"
    }
   },
   "cell_type": "code",
   "source": "(zc == zs).sum()",
   "id": "ee66ad977fc79472",
   "outputs": [
    {
     "data": {
      "text/plain": [
       "Array(2412000, dtype=int32)"
      ]
     },
     "execution_count": 183,
     "metadata": {},
     "output_type": "execute_result"
    }
   ],
   "execution_count": 183
  },
  {
   "metadata": {},
   "cell_type": "markdown",
   "source": "sample y directly conditioned on zc or zs which are the posterior samples",
   "id": "6c8d779ed964a0e3"
  },
  {
   "metadata": {
    "ExecuteTime": {
     "end_time": "2025-05-26T18:16:47.063863Z",
     "start_time": "2025-05-26T18:16:47.032360Z"
    }
   },
   "cell_type": "code",
   "source": "y = numpyro.sample(\"y\", dist.Categorical(jnp.tile(zc[np.newaxis,...],(3,1,1,1,1))),rng_key=random.PRNGKey(1))",
   "id": "2000853638f993fc",
   "outputs": [],
   "execution_count": 184
  },
  {
   "metadata": {
    "ExecuteTime": {
     "end_time": "2025-05-26T18:17:31.101669Z",
     "start_time": "2025-05-26T18:17:31.078209Z"
    }
   },
   "cell_type": "code",
   "source": "pred_results(y.squeeze().transpose(1,2,0))",
   "id": "bf3302a3a1d171b6",
   "outputs": [
    {
     "name": "stdout",
     "output_type": "stream",
     "text": [
      "Average Jensen-Shannon divergence across items= 0.04210504575377209\n",
      "Average KL divergence across items= 0.1589373858139542\n",
      "Binary F1 score with majority vote = 0.0\n"
     ]
    }
   ],
   "execution_count": 187
  },
  {
   "metadata": {},
   "cell_type": "markdown",
   "source": "Nothing wrong. Somehow, looping over 500 samples gives different results",
   "id": "136dc29c8df25379"
  },
  {
   "metadata": {
    "ExecuteTime": {
     "end_time": "2025-05-26T18:20:03.923077Z",
     "start_time": "2025-05-26T18:20:03.880464Z"
    }
   },
   "cell_type": "code",
   "source": "jnp.tile(zc[np.newaxis,...],(3,1,1,1,1)).shape",
   "id": "519909c7fcb37081",
   "outputs": [
    {
     "data": {
      "text/plain": [
       "(3, 500, 2412, 1, 2)"
      ]
     },
     "execution_count": 191,
     "metadata": {},
     "output_type": "execute_result"
    }
   ],
   "execution_count": 191
  },
  {
   "metadata": {},
   "cell_type": "markdown",
   "source": "Loop now over second axis of the modified zc",
   "id": "c35f66e7f8d415cf"
  },
  {
   "metadata": {},
   "cell_type": "code",
   "outputs": [],
   "execution_count": 222,
   "source": [
    "for i in range(0,500):\n",
    "    y = numpyro.sample(\"y\", dist.Categorical(jnp.tile(zc[np.newaxis,...],(3,1,1,1,1))[:,i]),rng_key=random.PRNGKey(1))\n",
    "    if i == 0:\n",
    "        ys=y\n",
    "    elif i == 1:\n",
    "        ys = np.vstack((ys[np.newaxis,...],y[np.newaxis,...]))\n",
    "    else:\n",
    "        ys = np.vstack((ys,y[np.newaxis,...]))"
   ],
   "id": "866c5eb3d1c4ed98"
  },
  {
   "metadata": {},
   "cell_type": "code",
   "outputs": [
    {
     "name": "stdout",
     "output_type": "stream",
     "text": [
      "Average Jensen-Shannon divergence across items= 0.05609169892066523\n",
      "Average KL divergence across items= inf\n",
      "Binary F1 score with majority vote = 0.3125\n"
     ]
    }
   ],
   "execution_count": 197,
   "source": "pred_results(ys.squeeze().transpose(0,2,1))",
   "id": "d33304ac500926f5"
  },
  {
   "metadata": {},
   "cell_type": "code",
   "outputs": [],
   "execution_count": null,
   "source": "With looping the results are different",
   "id": "42615adb8fa6dd39"
  },
  {
   "metadata": {
    "ExecuteTime": {
     "end_time": "2025-05-26T17:06:53.104325Z",
     "start_time": "2025-05-26T17:06:53.074022Z"
    }
   },
   "cell_type": "code",
   "source": [
    "with numpyro.handlers.seed(rng_seed=1):\n",
    "    trace = numpyro.handlers.trace(multinomial_test).get_trace(*data)\n",
    "print(numpyro.util.format_shapes(trace))"
   ],
   "id": "93513bcf920ec9b0",
   "outputs": [
    {
     "name": "stdout",
     "output_type": "stream",
     "text": [
      "(500, 2412, 1, 1)\n",
      "(500, 1, 2, 2)\n",
      "(500, 2412, 1, 2)\n",
      "(2412, 3)\n",
      "(2412, 3)\n",
      "(2412, 3)\n",
      " Trace Shapes:                  \n",
      "  Param Sites:                  \n",
      " Sample Sites:                  \n",
      "   class plate             2 |  \n",
      "     zeta dist             2 | 2\n",
      "         value      500    2 | 2\n",
      "    item plate          2412 |  \n",
      "        c dist     2412    1 |  \n",
      "         value 500 2412    1 |  \n",
      "position plate             3 |  \n",
      "        y dist 500 2412    3 |  \n",
      "         value 500 2412    3 |  \n"
     ]
    }
   ],
   "execution_count": 68
  },
  {
   "metadata": {
    "ExecuteTime": {
     "end_time": "2025-05-26T17:06:02.570361Z",
     "start_time": "2025-05-26T17:06:02.542201Z"
    }
   },
   "cell_type": "code",
   "source": [
    "with numpyro.handlers.seed(rng_seed=1):\n",
    "    trace = numpyro.handlers.trace(multinomial).get_trace(*(annotations[train_size:], logits[train_size:], [True] * annotations[train_size:].shape[0]))\n",
    "print(numpyro.util.format_shapes(trace))"
   ],
   "id": "3ead2d1f0892ef8b",
   "outputs": [
    {
     "name": "stdout",
     "output_type": "stream",
     "text": [
      "(2412, 1)\n",
      "(2412, 1, 2)\n",
      " Trace Shapes:              \n",
      "  Param Sites:              \n",
      " Sample Sites:              \n",
      "   class plate         2 |  \n",
      "     zeta dist         2 | 2\n",
      "         value         2 | 2\n",
      "    item plate      2412 |  \n",
      "        c dist 2412    1 |  \n",
      "         value 2412    1 |  \n",
      "position plate         3 |  \n",
      "        y dist 2412    3 |  \n",
      "         value 2412    3 |  \n"
     ]
    }
   ],
   "execution_count": 65
  },
  {
   "metadata": {},
   "cell_type": "code",
   "outputs": [],
   "execution_count": null,
   "source": "",
   "id": "51161243d20233ce"
  }
 ],
 "metadata": {
  "kernelspec": {
   "display_name": "Python 3",
   "language": "python",
   "name": "python3"
  },
  "language_info": {
   "codemirror_mode": {
    "name": "ipython",
    "version": 2
   },
   "file_extension": ".py",
   "mimetype": "text/x-python",
   "name": "python",
   "nbconvert_exporter": "python",
   "pygments_lexer": "ipython2",
   "version": "2.7.6"
  }
 },
 "nbformat": 4,
 "nbformat_minor": 5
}
